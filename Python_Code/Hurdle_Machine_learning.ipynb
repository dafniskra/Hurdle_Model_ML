{
 "cells": [
  {
   "cell_type": "code",
   "execution_count": 1,
   "metadata": {},
   "outputs": [],
   "source": [
    "#########  load packages and data\n",
    "\n",
    "import numpy as np \n",
    "import pandas as pd \n",
    "import xgboost as xgb\n",
    "from xgboost import cv\n",
    "from xgboost import plot_importance\n",
    "import seaborn as sns\n",
    "import matplotlib.pyplot as plt\n",
    "from typing import Tuple, Dict, List\n",
    "import sklearn\n",
    "from sklearn.metrics import accuracy_score\n",
    "from sklearn.metrics import confusion_matrix\n",
    "from sklearn.model_selection import train_test_split\n",
    "import category_encoders as ce \n",
    "import optuna\n",
    "\n",
    "plt.style.use('ggplot')\n",
    "\n",
    "data_learn = pd.read_csv('learn.csv')\n",
    "data_test = pd.read_csv('test.csv')"
   ]
  },
  {
   "cell_type": "code",
   "execution_count": 2,
   "metadata": {},
   "outputs": [],
   "source": [
    "#########  feature pre-processing\n",
    "\n",
    "data_learn[\"ClaimNb\"] = data_learn[\"ClaimNb\"].clip(upper=4)\n",
    "data_learn[\"BonusMalus_capped\"]= np.clip(data_learn.BonusMalus, None, 150)\n",
    "data_learn[\"VehAge_capped\"]= np.clip(data_learn.VehAge, None, 30)\n",
    "data_learn[\"DrivAge_capped\"]= np.clip(data_learn.DrivAge, None, 85)\n",
    "data_learn['LogDensity'] = np.log(data_learn['Density'])\n",
    "\n",
    "\n",
    "data_test[\"ClaimNb\"] = data_test[\"ClaimNb\"].clip(upper=4)\n",
    "data_test[\"BonusMalus_capped\"]= np.clip(data_test.BonusMalus, None, 150)\n",
    "data_test[\"VehAge_capped\"]= np.clip(data_test.VehAge, None, 30)\n",
    "data_test[\"DrivAge_capped\"]= np.clip(data_test.DrivAge, None, 85)\n",
    "data_test['LogDensity'] = np.log(data_test['Density'])"
   ]
  },
  {
   "cell_type": "code",
   "execution_count": 3,
   "metadata": {},
   "outputs": [],
   "source": [
    "# marque de la voiture\n",
    "def VehBrand_class(data):\n",
    "\n",
    "    Brand = np.array(data[\"VehBrand\"])\n",
    "\n",
    "    VehBrand_classe = []\n",
    "    for i in range(0, len(data)):\n",
    "        \n",
    "        if Brand[i] in ['B2', 'B4', 'B6', 'B10', 'B1']:\n",
    "            VehBrand_classe.append('C1')\n",
    "\n",
    "        elif Brand[i] in ['B3', 'B11', 'B5', 'B13', 'B14']:\n",
    "            VehBrand_classe.append('C2')\n",
    "\n",
    "        else:\n",
    "            VehBrand_classe.append('C4')\n",
    "\n",
    "    data[\"VehBrand_class\"]=VehBrand_classe\n",
    "        \n",
    "    return data\n",
    "\n",
    "data_learn = VehBrand_class(data_learn)\n",
    "data_test = VehBrand_class(data_test)\n",
    "\n",
    "#la zone d'habitation\n",
    "def Area_class(data):\n",
    "\n",
    "    Area = np.array(data[\"Area\"])\n",
    "\n",
    "    Area_classe = []\n",
    "    for i in range(0, len(data)):\n",
    "        \n",
    "        if Area[i] in ['A', 'B', 'C']:\n",
    "            Area_classe.append('C1')\n",
    "\n",
    "        elif Area[i] in ['D']:\n",
    "            Area_classe.append('C2')\n",
    "\n",
    "        elif Area[i] in ['E']:\n",
    "            Area_classe.append('C3')\n",
    "\n",
    "        else:\n",
    "            Area_classe.append('C4')\n",
    "\n",
    "    data[\"Area_class\"]=Area_classe\n",
    "        \n",
    "    return data\n",
    "\n",
    "data_learn = Area_class(data_learn)\n",
    "data_test = Area_class(data_test)\n",
    "\n",
    "#region d'habitation\n",
    "def Region_class(data):\n",
    "\n",
    "    Region = np.array(data[\"Region\"])\n",
    "\n",
    "    Region_classe = []\n",
    "    for i in range(0, len(data)):\n",
    "        \n",
    "        if Region[i] in ['R21', 'R94', 'R11', 'R22', 'R74']:\n",
    "            Region_classe.append('C1')\n",
    "\n",
    "        elif Region[i] in ['R91', 'R82', 'R42']:\n",
    "            Region_classe.append('C2')\n",
    "\n",
    "        elif Region[i] in ['R93', 'R53']:\n",
    "            Region_classe.append('C3')\n",
    "\n",
    "        elif Region[i] in ['R26', 'R25', 'R52', 'R31', 'R54', 'R73', \n",
    "                                'R23', 'R72', 'R83', 'R41', 'R43', 'R24']:\n",
    "            Region_classe.append('C4')\n",
    "\n",
    "    data[\"Region_class\"]=Region_classe\n",
    "        \n",
    "    return data\n",
    "\n",
    "data_learn = Region_class(data_learn)\n",
    "data_test = Region_class(data_test)"
   ]
  },
  {
   "cell_type": "code",
   "execution_count": 4,
   "metadata": {},
   "outputs": [],
   "source": [
    "# Function PD: Calculate Poisson Deviance\n",
    "def PD_function(pred, obs):\n",
    "    PD = 200*( sum(pred) - sum(obs) + sum( np.log( (obs/pred)**(obs) ) ) )\n",
    "    return PD/len(pred)\n",
    "\n",
    "# Function PD2: Print Poisson Deviance learn/test\n",
    "def PD2_function(txt, l_c, l_x, t_c, t_x):\n",
    "    print(\"{:s}, Train/Valid: {:.4f} / {:.4f}\".format(txt, PD_function(l_c, l_x), PD_function(t_c, t_x)))"
   ]
  },
  {
   "cell_type": "code",
   "execution_count": 5,
   "metadata": {},
   "outputs": [
    {
     "name": "stderr",
     "output_type": "stream",
     "text": [
      "/home/krasniqi/anaconda3/lib/python3.8/site-packages/category_encoders/utils.py:21: FutureWarning: is_categorical is deprecated and will be removed in a future version.  Use is_categorical_dtype instead\n",
      "  elif pd.api.types.is_categorical(cols):\n",
      "/home/krasniqi/anaconda3/lib/python3.8/site-packages/category_encoders/utils.py:21: FutureWarning: is_categorical is deprecated and will be removed in a future version.  Use is_categorical_dtype instead\n",
      "  elif pd.api.types.is_categorical(cols):\n"
     ]
    }
   ],
   "source": [
    "import category_encoders as ce   # version 1.2.8\n",
    "\n",
    "ce_ord = ce.one_hot.OneHotEncoder(cols = ['Region_class', \"Area_class\", \"VehBrand_class\", \"VehGas\"])\n",
    "data_learn_ = ce_ord.fit_transform(data_learn, data_learn[\"ClaimNb\"])\n",
    "data_test_ = ce_ord.fit_transform(data_test, data_test[\"ClaimNb\"])"
   ]
  },
  {
   "cell_type": "code",
   "execution_count": 6,
   "metadata": {},
   "outputs": [],
   "source": [
    "#### columns taht we don't need\n",
    "data_learn_ = data_learn_.drop(['Area','ClaimAmount', 'DrivAge', 'BonusMalus','VehBrand',\n",
    "                                'Density', 'Region', 'VehAge'], axis=1)\n",
    "\n",
    "data_test_ = data_test_.drop(['Area','ClaimAmount', 'DrivAge', 'BonusMalus','VehBrand',\n",
    "                                'Density', 'Region', 'VehAge'], axis=1)"
   ]
  },
  {
   "cell_type": "code",
   "execution_count": 7,
   "metadata": {},
   "outputs": [],
   "source": [
    "#train\n",
    "y_train = data_learn_.filter(['ClaimNb'])\n",
    "log_exp_train= np.log(data_learn_.filter(['Exposure']))\n",
    "x_train = data_learn_.drop(columns=['ClaimNb', 'Exposure'])\n",
    "\n",
    "#valid\n",
    "y_valid = data_test_.filter(['ClaimNb'])\n",
    "log_exp_valid = np.log(data_test_.filter(['Exposure']))\n",
    "x_valid = data_test_.drop(columns=['ClaimNb', 'Exposure'])"
   ]
  },
  {
   "cell_type": "markdown",
   "metadata": {},
   "source": [
    "## 1. Binary Model"
   ]
  },
  {
   "cell_type": "code",
   "execution_count": 8,
   "metadata": {},
   "outputs": [
    {
     "name": "stderr",
     "output_type": "stream",
     "text": [
      "/home/krasniqi/anaconda3/lib/python3.8/site-packages/sklearn/utils/validation.py:63: DataConversionWarning: A column-vector y was passed when a 1d array was expected. Please change the shape of y to (n_samples, ), for example using ravel().\n",
      "  return f(*args, **kwargs)\n"
     ]
    },
    {
     "name": "stdout",
     "output_type": "stream",
     "text": [
      "[0]\tvalidation_0-logloss:0.68609\tvalidation_1-logloss:0.68627\n",
      "Multiple eval metrics have been passed: 'validation_1-logloss' will be used for early stopping.\n",
      "\n",
      "Will train until validation_1-logloss hasn't improved in 15 rounds.\n",
      "[100]\tvalidation_0-logloss:0.32771\tvalidation_1-logloss:0.33100\n",
      "[200]\tvalidation_0-logloss:0.23974\tvalidation_1-logloss:0.24423\n",
      "[300]\tvalidation_0-logloss:0.21658\tvalidation_1-logloss:0.22204\n",
      "[400]\tvalidation_0-logloss:0.20977\tvalidation_1-logloss:0.21594\n",
      "[500]\tvalidation_0-logloss:0.20724\tvalidation_1-logloss:0.21427\n",
      "[600]\tvalidation_0-logloss:0.20610\tvalidation_1-logloss:0.21374\n",
      "Stopping. Best iteration:\n",
      "[648]\tvalidation_0-logloss:0.20571\tvalidation_1-logloss:0.21366\n",
      "\n"
     ]
    },
    {
     "data": {
      "text/plain": [
       "XGBClassifier(alpha=0.0003025298842452404, base_score=0.5, booster='gbtree',\n",
       "              colsample_bylevel=1, colsample_bynode=1,\n",
       "              colsample_bytree=0.7802558158701174, eta=3.360411524776418e-05,\n",
       "              gamma=1.7396619505750592e-07, gpu_id=-1, grow_policy='depthwise',\n",
       "              importance_type='gain', interaction_constraints='',\n",
       "              lambda=0.20285597021115936, learning_rate=0.0112858876989048,\n",
       "              max_delta_step=0, max_depth=7, min_child_weight=5, missing=nan,\n",
       "              monotone_constraints='()', n_estimators=2000, n_jobs=0,\n",
       "              num_parallel_tree=1, random_state=0, reg_alpha=0.000302529894,\n",
       "              reg_lambda=0.202855974, scale_pos_weight=1,\n",
       "              subsample=0.657945504955294, tree_method='exact',\n",
       "              validate_parameters=1, verbosity=None)"
      ]
     },
     "execution_count": 8,
     "metadata": {},
     "output_type": "execute_result"
    }
   ],
   "source": [
    "xgb_clf_params = {'learning_rate': 0.0112858876989048,\n",
    " 'booster': 'gbtree',\n",
    " 'lambda': 0.20285597021115936,\n",
    " 'alpha': 0.0003025298842452404,\n",
    " 'subsample': 0.657945504955294,\n",
    " 'colsample_bytree': 0.7802558158701174,\n",
    " 'max_depth': 7,\n",
    " 'min_child_weight': 5,\n",
    " 'eta': 3.360411524776418e-05,\n",
    " 'gamma': 1.7396619505750592e-07,\n",
    " 'grow_policy': 'depthwise',\n",
    " 'objective': 'binary:logistic',\n",
    " 'n_estimators': 2000}\n",
    "\n",
    "xgb_binaire = xgb.XGBClassifier(**xgb_clf_params)\n",
    "\n",
    "xgb_binaire.fit(X=x_train, y=y_train > 0, \n",
    "                base_margin=log_exp_train,\n",
    "                eval_set=[(x_train, y_train > 0), (x_valid, y_valid>0)],\n",
    "                eval_metric=[\"logloss\"], verbose=100, \n",
    "                early_stopping_rounds=15)"
   ]
  },
  {
   "cell_type": "markdown",
   "metadata": {},
   "source": [
    "## 2. Poisson zero truncated Model"
   ]
  },
  {
   "cell_type": "code",
   "execution_count": 9,
   "metadata": {},
   "outputs": [],
   "source": [
    "#only positiv  ClaimNb\n",
    "dmat_train = xgb.DMatrix(x_train[y_train.ClaimNb >0], y_train[y_train.ClaimNb >0])\n",
    "dmat_valid = xgb.DMatrix(x_valid[y_valid.ClaimNb >0], y_valid[y_valid.ClaimNb >0])"
   ]
  },
  {
   "cell_type": "code",
   "execution_count": 10,
   "metadata": {},
   "outputs": [],
   "source": [
    "def first_grad(predt, dtrain):\n",
    "    '''Compute the first derivative.'''\n",
    "    y = dtrain.get_label() if isinstance(dtrain, xgb.DMatrix) else dtrain\n",
    "    return (-y/predt) +(np.exp(predt)/(np.exp(predt)-1))\n",
    "\n",
    "def second_grad(predt, dtrain):\n",
    "    '''Compute the second derivative.'''\n",
    "    y = dtrain.get_label() if isinstance(dtrain, xgb.DMatrix) else dtrain\n",
    "    return (y/predt**2 - (np.exp(predt)/(np.exp(predt)-1)**2)) \n",
    "\n",
    "def PoissonZeroNegLogLik(predt, dtrain):\n",
    "    ''''Mean squared error function.'''\n",
    "    predt[predt < 0] = 0 + 1e-6\n",
    "    grad = first_grad(predt, dtrain)\n",
    "    hess = second_grad(predt, dtrain)\n",
    "    return grad, hess\n",
    "\n",
    "def EvalPoissonZeroNegLogLik(preds: np.ndarray, dtrain: xgb.DMatrix) -> Tuple[str, float]:\n",
    "    actuals = dtrain.get_label()\n",
    "    preds[preds < 0] = 1e-6\n",
    "    resultats = -actuals * np.log(preds) + np.log(np.exp(preds)-1)\n",
    "    return \"ZIdev\", float(np.sum(resultats)/len(preds))"
   ]
  },
  {
   "cell_type": "code",
   "execution_count": 38,
   "metadata": {},
   "outputs": [
    {
     "name": "stdout",
     "output_type": "stream",
     "text": [
      "[0]\tdtrain-rmse:0.61993\tdtest-rmse:0.61520\tdtrain-ZIdev:0.29790\tdtest-ZIdev:0.29634\n",
      "Multiple eval metrics have been passed: 'dtest-ZIdev' will be used for early stopping.\n",
      "\n",
      "Will train until dtest-ZIdev hasn't improved in 10 rounds.\n",
      "[1]\tdtrain-rmse:0.62685\tdtest-rmse:0.62181\tdtrain-ZIdev:0.29457\tdtest-ZIdev:0.29322\n",
      "[2]\tdtrain-rmse:0.63367\tdtest-rmse:0.62870\tdtrain-ZIdev:0.29133\tdtest-ZIdev:0.28995\n",
      "[3]\tdtrain-rmse:0.64005\tdtest-rmse:0.63419\tdtrain-ZIdev:0.28835\tdtest-ZIdev:0.28742\n",
      "[4]\tdtrain-rmse:0.64634\tdtest-rmse:0.63998\tdtrain-ZIdev:0.28541\tdtest-ZIdev:0.28476\n",
      "[5]\tdtrain-rmse:0.65257\tdtest-rmse:0.64602\tdtrain-ZIdev:0.28252\tdtest-ZIdev:0.28203\n",
      "[6]\tdtrain-rmse:0.65861\tdtest-rmse:0.65213\tdtrain-ZIdev:0.27972\tdtest-ZIdev:0.27923\n",
      "[7]\tdtrain-rmse:0.66442\tdtest-rmse:0.65750\tdtrain-ZIdev:0.27707\tdtest-ZIdev:0.27678\n",
      "[8]\tdtrain-rmse:0.67021\tdtest-rmse:0.66317\tdtrain-ZIdev:0.27444\tdtest-ZIdev:0.27426\n",
      "[9]\tdtrain-rmse:0.67603\tdtest-rmse:0.66903\tdtrain-ZIdev:0.27180\tdtest-ZIdev:0.27160\n",
      "[10]\tdtrain-rmse:0.68126\tdtest-rmse:0.67381\tdtrain-ZIdev:0.26949\tdtest-ZIdev:0.26950\n",
      "[11]\tdtrain-rmse:0.68672\tdtest-rmse:0.67930\tdtrain-ZIdev:0.26706\tdtest-ZIdev:0.26705\n",
      "[12]\tdtrain-rmse:0.69202\tdtest-rmse:0.68457\tdtrain-ZIdev:0.26471\tdtest-ZIdev:0.26473\n",
      "[13]\tdtrain-rmse:0.69719\tdtest-rmse:0.68974\tdtrain-ZIdev:0.26244\tdtest-ZIdev:0.26246\n",
      "[14]\tdtrain-rmse:0.70232\tdtest-rmse:0.69492\tdtrain-ZIdev:0.26021\tdtest-ZIdev:0.26026\n",
      "[15]\tdtrain-rmse:0.70713\tdtest-rmse:0.69983\tdtrain-ZIdev:0.25812\tdtest-ZIdev:0.25821\n",
      "[16]\tdtrain-rmse:0.71191\tdtest-rmse:0.70415\tdtrain-ZIdev:0.25606\tdtest-ZIdev:0.25640\n",
      "[17]\tdtrain-rmse:0.71668\tdtest-rmse:0.70984\tdtrain-ZIdev:0.25402\tdtest-ZIdev:0.25403\n",
      "[18]\tdtrain-rmse:0.72146\tdtest-rmse:0.71412\tdtrain-ZIdev:0.25199\tdtest-ZIdev:0.25223\n",
      "[19]\tdtrain-rmse:0.72591\tdtest-rmse:0.71846\tdtrain-ZIdev:0.25010\tdtest-ZIdev:0.25044\n",
      "[20]\tdtrain-rmse:0.73002\tdtest-rmse:0.72259\tdtrain-ZIdev:0.24838\tdtest-ZIdev:0.24875\n",
      "[21]\tdtrain-rmse:0.73406\tdtest-rmse:0.72633\tdtrain-ZIdev:0.24672\tdtest-ZIdev:0.24723\n",
      "[22]\tdtrain-rmse:0.73823\tdtest-rmse:0.73058\tdtrain-ZIdev:0.24500\tdtest-ZIdev:0.24549\n",
      "[23]\tdtrain-rmse:0.74240\tdtest-rmse:0.73474\tdtrain-ZIdev:0.24326\tdtest-ZIdev:0.24377\n",
      "[24]\tdtrain-rmse:0.74640\tdtest-rmse:0.73909\tdtrain-ZIdev:0.24163\tdtest-ZIdev:0.24199\n",
      "[25]\tdtrain-rmse:0.75023\tdtest-rmse:0.74293\tdtrain-ZIdev:0.24008\tdtest-ZIdev:0.24039\n",
      "[26]\tdtrain-rmse:0.75406\tdtest-rmse:0.74679\tdtrain-ZIdev:0.23851\tdtest-ZIdev:0.23881\n",
      "[27]\tdtrain-rmse:0.75768\tdtest-rmse:0.75015\tdtrain-ZIdev:0.23707\tdtest-ZIdev:0.23749\n",
      "[28]\tdtrain-rmse:0.76126\tdtest-rmse:0.75351\tdtrain-ZIdev:0.23566\tdtest-ZIdev:0.23622\n",
      "[29]\tdtrain-rmse:0.76480\tdtest-rmse:0.75709\tdtrain-ZIdev:0.23426\tdtest-ZIdev:0.23482\n",
      "[30]\tdtrain-rmse:0.76822\tdtest-rmse:0.76061\tdtrain-ZIdev:0.23289\tdtest-ZIdev:0.23350\n",
      "[31]\tdtrain-rmse:0.77155\tdtest-rmse:0.76379\tdtrain-ZIdev:0.23158\tdtest-ZIdev:0.23229\n",
      "[32]\tdtrain-rmse:0.77489\tdtest-rmse:0.76715\tdtrain-ZIdev:0.23026\tdtest-ZIdev:0.23100\n",
      "[33]\tdtrain-rmse:0.77815\tdtest-rmse:0.77022\tdtrain-ZIdev:0.22900\tdtest-ZIdev:0.22981\n",
      "[34]\tdtrain-rmse:0.78126\tdtest-rmse:0.77347\tdtrain-ZIdev:0.22779\tdtest-ZIdev:0.22863\n",
      "[35]\tdtrain-rmse:0.78432\tdtest-rmse:0.77658\tdtrain-ZIdev:0.22661\tdtest-ZIdev:0.22748\n",
      "[36]\tdtrain-rmse:0.78734\tdtest-rmse:0.77966\tdtrain-ZIdev:0.22546\tdtest-ZIdev:0.22636\n",
      "[37]\tdtrain-rmse:0.79024\tdtest-rmse:0.78257\tdtrain-ZIdev:0.22437\tdtest-ZIdev:0.22530\n",
      "[38]\tdtrain-rmse:0.79331\tdtest-rmse:0.78565\tdtrain-ZIdev:0.22321\tdtest-ZIdev:0.22411\n",
      "[39]\tdtrain-rmse:0.79614\tdtest-rmse:0.78847\tdtrain-ZIdev:0.22215\tdtest-ZIdev:0.22310\n",
      "[40]\tdtrain-rmse:0.79898\tdtest-rmse:0.79126\tdtrain-ZIdev:0.22110\tdtest-ZIdev:0.22209\n",
      "[41]\tdtrain-rmse:0.80165\tdtest-rmse:0.79392\tdtrain-ZIdev:0.22013\tdtest-ZIdev:0.22113\n",
      "[42]\tdtrain-rmse:0.80424\tdtest-rmse:0.79647\tdtrain-ZIdev:0.21919\tdtest-ZIdev:0.22025\n",
      "[43]\tdtrain-rmse:0.80679\tdtest-rmse:0.79903\tdtrain-ZIdev:0.21827\tdtest-ZIdev:0.21934\n",
      "[44]\tdtrain-rmse:0.80921\tdtest-rmse:0.80132\tdtrain-ZIdev:0.21740\tdtest-ZIdev:0.21854\n",
      "[45]\tdtrain-rmse:0.81170\tdtest-rmse:0.80376\tdtrain-ZIdev:0.21650\tdtest-ZIdev:0.21773\n",
      "[46]\tdtrain-rmse:0.81405\tdtest-rmse:0.80612\tdtrain-ZIdev:0.21566\tdtest-ZIdev:0.21690\n",
      "[47]\tdtrain-rmse:0.81633\tdtest-rmse:0.80841\tdtrain-ZIdev:0.21486\tdtest-ZIdev:0.21608\n",
      "[48]\tdtrain-rmse:0.81856\tdtest-rmse:0.81062\tdtrain-ZIdev:0.21409\tdtest-ZIdev:0.21530\n",
      "[49]\tdtrain-rmse:0.81997\tdtest-rmse:0.81254\tdtrain-ZIdev:0.21361\tdtest-ZIdev:0.21464\n",
      "[50]\tdtrain-rmse:0.82246\tdtest-rmse:0.81504\tdtrain-ZIdev:0.21271\tdtest-ZIdev:0.21374\n",
      "[51]\tdtrain-rmse:0.82358\tdtest-rmse:0.81668\tdtrain-ZIdev:0.21232\tdtest-ZIdev:0.21323\n",
      "[52]\tdtrain-rmse:0.82576\tdtest-rmse:0.81890\tdtrain-ZIdev:0.21158\tdtest-ZIdev:0.21256\n",
      "[53]\tdtrain-rmse:0.82754\tdtest-rmse:0.82161\tdtrain-ZIdev:0.21096\tdtest-ZIdev:0.21163\n",
      "[54]\tdtrain-rmse:0.82840\tdtest-rmse:0.82320\tdtrain-ZIdev:0.21063\tdtest-ZIdev:0.21112\n",
      "[55]\tdtrain-rmse:0.82993\tdtest-rmse:0.82579\tdtrain-ZIdev:0.21011\tdtest-ZIdev:0.21031\n",
      "[56]\tdtrain-rmse:0.83064\tdtest-rmse:0.82656\tdtrain-ZIdev:0.20985\tdtest-ZIdev:0.21006\n",
      "[57]\tdtrain-rmse:0.83181\tdtest-rmse:0.82775\tdtrain-ZIdev:0.20944\tdtest-ZIdev:0.20965\n",
      "[58]\tdtrain-rmse:0.83278\tdtest-rmse:0.82871\tdtrain-ZIdev:0.20911\tdtest-ZIdev:0.20929\n",
      "[59]\tdtrain-rmse:0.83383\tdtest-rmse:0.82973\tdtrain-ZIdev:0.20875\tdtest-ZIdev:0.20892\n",
      "[60]\tdtrain-rmse:0.83551\tdtest-rmse:0.83132\tdtrain-ZIdev:0.20817\tdtest-ZIdev:0.20840\n",
      "[61]\tdtrain-rmse:0.83636\tdtest-rmse:0.83218\tdtrain-ZIdev:0.20788\tdtest-ZIdev:0.20810\n",
      "[62]\tdtrain-rmse:0.83697\tdtest-rmse:0.83281\tdtrain-ZIdev:0.20769\tdtest-ZIdev:0.20790\n",
      "[63]\tdtrain-rmse:0.83773\tdtest-rmse:0.83357\tdtrain-ZIdev:0.20746\tdtest-ZIdev:0.20766\n",
      "[64]\tdtrain-rmse:0.83850\tdtest-rmse:0.83435\tdtrain-ZIdev:0.20720\tdtest-ZIdev:0.20738\n",
      "[65]\tdtrain-rmse:0.83909\tdtest-rmse:0.83513\tdtrain-ZIdev:0.20698\tdtest-ZIdev:0.20714\n",
      "[66]\tdtrain-rmse:0.84062\tdtest-rmse:0.83673\tdtrain-ZIdev:0.20645\tdtest-ZIdev:0.20659\n",
      "[67]\tdtrain-rmse:0.84126\tdtest-rmse:0.83735\tdtrain-ZIdev:0.20623\tdtest-ZIdev:0.20641\n",
      "[68]\tdtrain-rmse:0.84136\tdtest-rmse:0.83747\tdtrain-ZIdev:0.20618\tdtest-ZIdev:0.20634\n",
      "[69]\tdtrain-rmse:0.84236\tdtest-rmse:0.83893\tdtrain-ZIdev:0.20585\tdtest-ZIdev:0.20589\n",
      "[70]\tdtrain-rmse:0.84284\tdtest-rmse:0.83943\tdtrain-ZIdev:0.20569\tdtest-ZIdev:0.20573\n",
      "[71]\tdtrain-rmse:0.84343\tdtest-rmse:0.84008\tdtrain-ZIdev:0.20548\tdtest-ZIdev:0.20561\n",
      "[72]\tdtrain-rmse:0.84402\tdtest-rmse:0.84063\tdtrain-ZIdev:0.20527\tdtest-ZIdev:0.20544\n",
      "[73]\tdtrain-rmse:0.84467\tdtest-rmse:0.84124\tdtrain-ZIdev:0.20508\tdtest-ZIdev:0.20522\n",
      "[74]\tdtrain-rmse:0.84513\tdtest-rmse:0.84172\tdtrain-ZIdev:0.20492\tdtest-ZIdev:0.20514\n",
      "[75]\tdtrain-rmse:0.84562\tdtest-rmse:0.84221\tdtrain-ZIdev:0.20476\tdtest-ZIdev:0.20495\n",
      "[76]\tdtrain-rmse:0.84572\tdtest-rmse:0.84233\tdtrain-ZIdev:0.20472\tdtest-ZIdev:0.20499\n",
      "[77]\tdtrain-rmse:0.84585\tdtest-rmse:0.84252\tdtrain-ZIdev:0.20465\tdtest-ZIdev:0.20504\n",
      "[78]\tdtrain-rmse:0.84608\tdtest-rmse:0.84280\tdtrain-ZIdev:0.20456\tdtest-ZIdev:0.20508\n",
      "[79]\tdtrain-rmse:0.84653\tdtest-rmse:0.84327\tdtrain-ZIdev:0.20440\tdtest-ZIdev:0.20507\n",
      "[80]\tdtrain-rmse:0.84687\tdtest-rmse:0.84361\tdtrain-ZIdev:0.20426\tdtest-ZIdev:0.20512\n",
      "[81]\tdtrain-rmse:0.84713\tdtest-rmse:0.84385\tdtrain-ZIdev:0.20416\tdtest-ZIdev:0.20512\n",
      "[82]\tdtrain-rmse:0.84822\tdtest-rmse:0.84491\tdtrain-ZIdev:0.20380\tdtest-ZIdev:0.20483\n",
      "[83]\tdtrain-rmse:0.84867\tdtest-rmse:0.84531\tdtrain-ZIdev:0.20364\tdtest-ZIdev:0.20467\n",
      "[84]\tdtrain-rmse:0.84940\tdtest-rmse:0.84604\tdtrain-ZIdev:0.20340\tdtest-ZIdev:0.20445\n",
      "[85]\tdtrain-rmse:0.84991\tdtest-rmse:0.84629\tdtrain-ZIdev:0.20323\tdtest-ZIdev:0.20442\n",
      "[86]\tdtrain-rmse:0.84991\tdtest-rmse:0.84629\tdtrain-ZIdev:0.20322\tdtest-ZIdev:0.20441\n",
      "[87]\tdtrain-rmse:0.85028\tdtest-rmse:0.84671\tdtrain-ZIdev:0.20305\tdtest-ZIdev:0.20426\n",
      "[88]\tdtrain-rmse:0.85089\tdtest-rmse:0.84734\tdtrain-ZIdev:0.20284\tdtest-ZIdev:0.20407\n",
      "[89]\tdtrain-rmse:0.85090\tdtest-rmse:0.84735\tdtrain-ZIdev:0.20284\tdtest-ZIdev:0.20406\n",
      "[90]\tdtrain-rmse:0.85156\tdtest-rmse:0.84913\tdtrain-ZIdev:0.20260\tdtest-ZIdev:0.20354\n",
      "[91]\tdtrain-rmse:0.85156\tdtest-rmse:0.84914\tdtrain-ZIdev:0.20260\tdtest-ZIdev:0.20354\n",
      "[92]\tdtrain-rmse:0.85156\tdtest-rmse:0.84914\tdtrain-ZIdev:0.20260\tdtest-ZIdev:0.20354\n",
      "[93]\tdtrain-rmse:0.85164\tdtest-rmse:0.84922\tdtrain-ZIdev:0.20258\tdtest-ZIdev:0.20352\n",
      "[94]\tdtrain-rmse:0.85164\tdtest-rmse:0.84923\tdtrain-ZIdev:0.20257\tdtest-ZIdev:0.20352\n"
     ]
    },
    {
     "name": "stdout",
     "output_type": "stream",
     "text": [
      "[95]\tdtrain-rmse:0.85164\tdtest-rmse:0.84923\tdtrain-ZIdev:0.20257\tdtest-ZIdev:0.20352\n",
      "[96]\tdtrain-rmse:0.85165\tdtest-rmse:0.84925\tdtrain-ZIdev:0.20257\tdtest-ZIdev:0.20353\n",
      "[97]\tdtrain-rmse:0.85183\tdtest-rmse:0.84946\tdtrain-ZIdev:0.20251\tdtest-ZIdev:0.20350\n",
      "[98]\tdtrain-rmse:0.85193\tdtest-rmse:0.84964\tdtrain-ZIdev:0.20247\tdtest-ZIdev:0.20343\n",
      "[99]\tdtrain-rmse:0.85193\tdtest-rmse:0.84964\tdtrain-ZIdev:0.20247\tdtest-ZIdev:0.20343\n",
      "[100]\tdtrain-rmse:0.85193\tdtest-rmse:0.84964\tdtrain-ZIdev:0.20247\tdtest-ZIdev:0.20343\n",
      "[101]\tdtrain-rmse:0.85193\tdtest-rmse:0.84964\tdtrain-ZIdev:0.20247\tdtest-ZIdev:0.20343\n",
      "[102]\tdtrain-rmse:0.85193\tdtest-rmse:0.84964\tdtrain-ZIdev:0.20247\tdtest-ZIdev:0.20343\n",
      "[103]\tdtrain-rmse:0.85249\tdtest-rmse:0.85022\tdtrain-ZIdev:0.20226\tdtest-ZIdev:0.20320\n",
      "[104]\tdtrain-rmse:0.85249\tdtest-rmse:0.85023\tdtrain-ZIdev:0.20226\tdtest-ZIdev:0.20320\n",
      "[105]\tdtrain-rmse:0.85249\tdtest-rmse:0.85023\tdtrain-ZIdev:0.20225\tdtest-ZIdev:0.20320\n",
      "[106]\tdtrain-rmse:0.85284\tdtest-rmse:0.85062\tdtrain-ZIdev:0.20213\tdtest-ZIdev:0.20308\n",
      "[107]\tdtrain-rmse:0.85285\tdtest-rmse:0.85063\tdtrain-ZIdev:0.20213\tdtest-ZIdev:0.20308\n",
      "[108]\tdtrain-rmse:0.85285\tdtest-rmse:0.85063\tdtrain-ZIdev:0.20213\tdtest-ZIdev:0.20308\n",
      "[109]\tdtrain-rmse:0.85285\tdtest-rmse:0.85064\tdtrain-ZIdev:0.20213\tdtest-ZIdev:0.20308\n",
      "[110]\tdtrain-rmse:0.85285\tdtest-rmse:0.85063\tdtrain-ZIdev:0.20213\tdtest-ZIdev:0.20308\n",
      "[111]\tdtrain-rmse:0.85285\tdtest-rmse:0.85064\tdtrain-ZIdev:0.20213\tdtest-ZIdev:0.20308\n",
      "[112]\tdtrain-rmse:0.85285\tdtest-rmse:0.85064\tdtrain-ZIdev:0.20212\tdtest-ZIdev:0.20308\n",
      "[113]\tdtrain-rmse:0.85285\tdtest-rmse:0.85064\tdtrain-ZIdev:0.20212\tdtest-ZIdev:0.20307\n",
      "[114]\tdtrain-rmse:0.85337\tdtest-rmse:0.85115\tdtrain-ZIdev:0.20194\tdtest-ZIdev:0.20292\n",
      "[115]\tdtrain-rmse:0.85384\tdtest-rmse:0.85164\tdtrain-ZIdev:0.20180\tdtest-ZIdev:0.20277\n",
      "[116]\tdtrain-rmse:0.85444\tdtest-rmse:0.85228\tdtrain-ZIdev:0.20159\tdtest-ZIdev:0.20264\n",
      "[117]\tdtrain-rmse:0.85445\tdtest-rmse:0.85228\tdtrain-ZIdev:0.20158\tdtest-ZIdev:0.20264\n",
      "[118]\tdtrain-rmse:0.85471\tdtest-rmse:0.85255\tdtrain-ZIdev:0.20151\tdtest-ZIdev:0.20258\n",
      "[119]\tdtrain-rmse:0.85488\tdtest-rmse:0.85275\tdtrain-ZIdev:0.20144\tdtest-ZIdev:0.20249\n",
      "[120]\tdtrain-rmse:0.85488\tdtest-rmse:0.85276\tdtrain-ZIdev:0.20144\tdtest-ZIdev:0.20249\n",
      "[121]\tdtrain-rmse:0.85508\tdtest-rmse:0.85295\tdtrain-ZIdev:0.20135\tdtest-ZIdev:0.20243\n",
      "[122]\tdtrain-rmse:0.85508\tdtest-rmse:0.85295\tdtrain-ZIdev:0.20134\tdtest-ZIdev:0.20243\n",
      "[123]\tdtrain-rmse:0.85508\tdtest-rmse:0.85295\tdtrain-ZIdev:0.20134\tdtest-ZIdev:0.20243\n",
      "[124]\tdtrain-rmse:0.85526\tdtest-rmse:0.85318\tdtrain-ZIdev:0.20128\tdtest-ZIdev:0.20241\n",
      "[125]\tdtrain-rmse:0.85526\tdtest-rmse:0.85318\tdtrain-ZIdev:0.20128\tdtest-ZIdev:0.20240\n",
      "[126]\tdtrain-rmse:0.85526\tdtest-rmse:0.85319\tdtrain-ZIdev:0.20127\tdtest-ZIdev:0.20240\n",
      "[127]\tdtrain-rmse:0.85526\tdtest-rmse:0.85319\tdtrain-ZIdev:0.20127\tdtest-ZIdev:0.20240\n",
      "[128]\tdtrain-rmse:0.85527\tdtest-rmse:0.85319\tdtrain-ZIdev:0.20127\tdtest-ZIdev:0.20240\n",
      "[129]\tdtrain-rmse:0.85540\tdtest-rmse:0.85336\tdtrain-ZIdev:0.20121\tdtest-ZIdev:0.20237\n",
      "[130]\tdtrain-rmse:0.85606\tdtest-rmse:0.85400\tdtrain-ZIdev:0.20100\tdtest-ZIdev:0.20220\n",
      "[131]\tdtrain-rmse:0.85606\tdtest-rmse:0.85400\tdtrain-ZIdev:0.20100\tdtest-ZIdev:0.20220\n",
      "[132]\tdtrain-rmse:0.85628\tdtest-rmse:0.85426\tdtrain-ZIdev:0.20090\tdtest-ZIdev:0.20213\n",
      "[133]\tdtrain-rmse:0.85643\tdtest-rmse:0.85442\tdtrain-ZIdev:0.20085\tdtest-ZIdev:0.20208\n",
      "[134]\tdtrain-rmse:0.85643\tdtest-rmse:0.85442\tdtrain-ZIdev:0.20085\tdtest-ZIdev:0.20207\n",
      "[135]\tdtrain-rmse:0.85655\tdtest-rmse:0.85458\tdtrain-ZIdev:0.20082\tdtest-ZIdev:0.20202\n",
      "[136]\tdtrain-rmse:0.85655\tdtest-rmse:0.85458\tdtrain-ZIdev:0.20081\tdtest-ZIdev:0.20202\n",
      "[137]\tdtrain-rmse:0.85655\tdtest-rmse:0.85458\tdtrain-ZIdev:0.20081\tdtest-ZIdev:0.20202\n",
      "[138]\tdtrain-rmse:0.85705\tdtest-rmse:0.85514\tdtrain-ZIdev:0.20063\tdtest-ZIdev:0.20184\n",
      "[139]\tdtrain-rmse:0.85760\tdtest-rmse:0.85576\tdtrain-ZIdev:0.20040\tdtest-ZIdev:0.20179\n",
      "[140]\tdtrain-rmse:0.85783\tdtest-rmse:0.85601\tdtrain-ZIdev:0.20029\tdtest-ZIdev:0.20169\n",
      "[141]\tdtrain-rmse:0.85800\tdtest-rmse:0.85618\tdtrain-ZIdev:0.20023\tdtest-ZIdev:0.20164\n",
      "[142]\tdtrain-rmse:0.85858\tdtest-rmse:0.85695\tdtrain-ZIdev:0.20001\tdtest-ZIdev:0.20146\n",
      "[143]\tdtrain-rmse:0.85881\tdtest-rmse:0.85726\tdtrain-ZIdev:0.19990\tdtest-ZIdev:0.20134\n",
      "[144]\tdtrain-rmse:0.85881\tdtest-rmse:0.85726\tdtrain-ZIdev:0.19990\tdtest-ZIdev:0.20134\n",
      "[145]\tdtrain-rmse:0.85888\tdtest-rmse:0.85733\tdtrain-ZIdev:0.19987\tdtest-ZIdev:0.20132\n",
      "[146]\tdtrain-rmse:0.85889\tdtest-rmse:0.85734\tdtrain-ZIdev:0.19987\tdtest-ZIdev:0.20132\n",
      "[147]\tdtrain-rmse:0.85889\tdtest-rmse:0.85734\tdtrain-ZIdev:0.19987\tdtest-ZIdev:0.20131\n",
      "[148]\tdtrain-rmse:0.85944\tdtest-rmse:0.85789\tdtrain-ZIdev:0.19967\tdtest-ZIdev:0.20123\n",
      "[149]\tdtrain-rmse:0.85944\tdtest-rmse:0.85789\tdtrain-ZIdev:0.19967\tdtest-ZIdev:0.20123\n",
      "[150]\tdtrain-rmse:0.85955\tdtest-rmse:0.85801\tdtrain-ZIdev:0.19963\tdtest-ZIdev:0.20118\n",
      "[151]\tdtrain-rmse:0.85955\tdtest-rmse:0.85801\tdtrain-ZIdev:0.19963\tdtest-ZIdev:0.20118\n",
      "[152]\tdtrain-rmse:0.85955\tdtest-rmse:0.85801\tdtrain-ZIdev:0.19963\tdtest-ZIdev:0.20118\n",
      "[153]\tdtrain-rmse:0.85968\tdtest-rmse:0.85815\tdtrain-ZIdev:0.19958\tdtest-ZIdev:0.20112\n",
      "[154]\tdtrain-rmse:0.85968\tdtest-rmse:0.85816\tdtrain-ZIdev:0.19958\tdtest-ZIdev:0.20112\n",
      "[155]\tdtrain-rmse:0.85968\tdtest-rmse:0.85816\tdtrain-ZIdev:0.19958\tdtest-ZIdev:0.20112\n",
      "[156]\tdtrain-rmse:0.85968\tdtest-rmse:0.85816\tdtrain-ZIdev:0.19958\tdtest-ZIdev:0.20112\n",
      "[157]\tdtrain-rmse:0.85968\tdtest-rmse:0.85816\tdtrain-ZIdev:0.19957\tdtest-ZIdev:0.20112\n",
      "[158]\tdtrain-rmse:0.85968\tdtest-rmse:0.85816\tdtrain-ZIdev:0.19957\tdtest-ZIdev:0.20112\n",
      "[159]\tdtrain-rmse:0.86005\tdtest-rmse:0.85853\tdtrain-ZIdev:0.19945\tdtest-ZIdev:0.20103\n",
      "[160]\tdtrain-rmse:0.86011\tdtest-rmse:0.85859\tdtrain-ZIdev:0.19943\tdtest-ZIdev:0.20102\n",
      "[161]\tdtrain-rmse:0.86015\tdtest-rmse:0.85863\tdtrain-ZIdev:0.19942\tdtest-ZIdev:0.20101\n",
      "[162]\tdtrain-rmse:0.86015\tdtest-rmse:0.85863\tdtrain-ZIdev:0.19942\tdtest-ZIdev:0.20100\n",
      "[163]\tdtrain-rmse:0.86015\tdtest-rmse:0.85863\tdtrain-ZIdev:0.19942\tdtest-ZIdev:0.20100\n",
      "[164]\tdtrain-rmse:0.86016\tdtest-rmse:0.85863\tdtrain-ZIdev:0.19942\tdtest-ZIdev:0.20100\n",
      "[165]\tdtrain-rmse:0.86040\tdtest-rmse:0.85888\tdtrain-ZIdev:0.19931\tdtest-ZIdev:0.20089\n",
      "[166]\tdtrain-rmse:0.86040\tdtest-rmse:0.85888\tdtrain-ZIdev:0.19931\tdtest-ZIdev:0.20089\n",
      "[167]\tdtrain-rmse:0.86040\tdtest-rmse:0.85888\tdtrain-ZIdev:0.19931\tdtest-ZIdev:0.20089\n",
      "[168]\tdtrain-rmse:0.86040\tdtest-rmse:0.85889\tdtrain-ZIdev:0.19931\tdtest-ZIdev:0.20089\n",
      "[169]\tdtrain-rmse:0.86100\tdtest-rmse:0.86048\tdtrain-ZIdev:0.19912\tdtest-ZIdev:0.20042\n",
      "[170]\tdtrain-rmse:0.86100\tdtest-rmse:0.86048\tdtrain-ZIdev:0.19912\tdtest-ZIdev:0.20042\n",
      "[171]\tdtrain-rmse:0.86124\tdtest-rmse:0.86072\tdtrain-ZIdev:0.19900\tdtest-ZIdev:0.20034\n",
      "[172]\tdtrain-rmse:0.86124\tdtest-rmse:0.86072\tdtrain-ZIdev:0.19900\tdtest-ZIdev:0.20034\n",
      "[173]\tdtrain-rmse:0.86124\tdtest-rmse:0.86072\tdtrain-ZIdev:0.19900\tdtest-ZIdev:0.20034\n",
      "[174]\tdtrain-rmse:0.86144\tdtest-rmse:0.86093\tdtrain-ZIdev:0.19891\tdtest-ZIdev:0.20029\n",
      "[175]\tdtrain-rmse:0.86148\tdtest-rmse:0.86096\tdtrain-ZIdev:0.19889\tdtest-ZIdev:0.20030\n",
      "[176]\tdtrain-rmse:0.86156\tdtest-rmse:0.86104\tdtrain-ZIdev:0.19886\tdtest-ZIdev:0.20028\n",
      "[177]\tdtrain-rmse:0.86204\tdtest-rmse:0.86180\tdtrain-ZIdev:0.19871\tdtest-ZIdev:0.20014\n",
      "[178]\tdtrain-rmse:0.86231\tdtest-rmse:0.86256\tdtrain-ZIdev:0.19859\tdtest-ZIdev:0.20003\n",
      "[179]\tdtrain-rmse:0.86237\tdtest-rmse:0.86261\tdtrain-ZIdev:0.19856\tdtest-ZIdev:0.20001\n",
      "[180]\tdtrain-rmse:0.86237\tdtest-rmse:0.86261\tdtrain-ZIdev:0.19856\tdtest-ZIdev:0.20001\n",
      "[181]\tdtrain-rmse:0.86237\tdtest-rmse:0.86261\tdtrain-ZIdev:0.19856\tdtest-ZIdev:0.20001\n",
      "[182]\tdtrain-rmse:0.86248\tdtest-rmse:0.86274\tdtrain-ZIdev:0.19849\tdtest-ZIdev:0.19998\n",
      "[183]\tdtrain-rmse:0.86257\tdtest-rmse:0.86283\tdtrain-ZIdev:0.19847\tdtest-ZIdev:0.19996\n",
      "[184]\tdtrain-rmse:0.86274\tdtest-rmse:0.86302\tdtrain-ZIdev:0.19839\tdtest-ZIdev:0.19993\n",
      "[185]\tdtrain-rmse:0.86274\tdtest-rmse:0.86302\tdtrain-ZIdev:0.19839\tdtest-ZIdev:0.19993\n",
      "[186]\tdtrain-rmse:0.86274\tdtest-rmse:0.86303\tdtrain-ZIdev:0.19839\tdtest-ZIdev:0.19992\n",
      "[187]\tdtrain-rmse:0.86274\tdtest-rmse:0.86303\tdtrain-ZIdev:0.19839\tdtest-ZIdev:0.19993\n",
      "[188]\tdtrain-rmse:0.86299\tdtest-rmse:0.86391\tdtrain-ZIdev:0.19831\tdtest-ZIdev:0.19967\n",
      "[189]\tdtrain-rmse:0.86304\tdtest-rmse:0.86396\tdtrain-ZIdev:0.19829\tdtest-ZIdev:0.19965\n",
      "[190]\tdtrain-rmse:0.86319\tdtest-rmse:0.86412\tdtrain-ZIdev:0.19823\tdtest-ZIdev:0.19959\n"
     ]
    },
    {
     "name": "stdout",
     "output_type": "stream",
     "text": [
      "[191]\tdtrain-rmse:0.86319\tdtest-rmse:0.86412\tdtrain-ZIdev:0.19823\tdtest-ZIdev:0.19959\n",
      "[192]\tdtrain-rmse:0.86325\tdtest-rmse:0.86419\tdtrain-ZIdev:0.19821\tdtest-ZIdev:0.19957\n",
      "[193]\tdtrain-rmse:0.86350\tdtest-rmse:0.86443\tdtrain-ZIdev:0.19808\tdtest-ZIdev:0.19957\n",
      "[194]\tdtrain-rmse:0.86350\tdtest-rmse:0.86443\tdtrain-ZIdev:0.19808\tdtest-ZIdev:0.19956\n",
      "[195]\tdtrain-rmse:0.86360\tdtest-rmse:0.86454\tdtrain-ZIdev:0.19805\tdtest-ZIdev:0.19952\n",
      "[196]\tdtrain-rmse:0.86360\tdtest-rmse:0.86454\tdtrain-ZIdev:0.19805\tdtest-ZIdev:0.19952\n",
      "[197]\tdtrain-rmse:0.86392\tdtest-rmse:0.86484\tdtrain-ZIdev:0.19790\tdtest-ZIdev:0.19947\n",
      "[198]\tdtrain-rmse:0.86392\tdtest-rmse:0.86484\tdtrain-ZIdev:0.19790\tdtest-ZIdev:0.19947\n",
      "[199]\tdtrain-rmse:0.86392\tdtest-rmse:0.86484\tdtrain-ZIdev:0.19790\tdtest-ZIdev:0.19946\n",
      "[200]\tdtrain-rmse:0.86392\tdtest-rmse:0.86484\tdtrain-ZIdev:0.19790\tdtest-ZIdev:0.19946\n",
      "[201]\tdtrain-rmse:0.86409\tdtest-rmse:0.86500\tdtrain-ZIdev:0.19784\tdtest-ZIdev:0.19942\n",
      "[202]\tdtrain-rmse:0.86440\tdtest-rmse:0.86532\tdtrain-ZIdev:0.19768\tdtest-ZIdev:0.19945\n",
      "[203]\tdtrain-rmse:0.86465\tdtest-rmse:0.86555\tdtrain-ZIdev:0.19761\tdtest-ZIdev:0.19939\n",
      "[204]\tdtrain-rmse:0.86465\tdtest-rmse:0.86556\tdtrain-ZIdev:0.19761\tdtest-ZIdev:0.19939\n",
      "[205]\tdtrain-rmse:0.86465\tdtest-rmse:0.86556\tdtrain-ZIdev:0.19761\tdtest-ZIdev:0.19939\n",
      "[206]\tdtrain-rmse:0.86482\tdtest-rmse:0.86572\tdtrain-ZIdev:0.19755\tdtest-ZIdev:0.19935\n",
      "[207]\tdtrain-rmse:0.86483\tdtest-rmse:0.86573\tdtrain-ZIdev:0.19754\tdtest-ZIdev:0.19934\n",
      "[208]\tdtrain-rmse:0.86499\tdtest-rmse:0.86588\tdtrain-ZIdev:0.19748\tdtest-ZIdev:0.19929\n",
      "[209]\tdtrain-rmse:0.86504\tdtest-rmse:0.86592\tdtrain-ZIdev:0.19747\tdtest-ZIdev:0.19931\n",
      "[210]\tdtrain-rmse:0.86518\tdtest-rmse:0.86605\tdtrain-ZIdev:0.19743\tdtest-ZIdev:0.19927\n",
      "[211]\tdtrain-rmse:0.86518\tdtest-rmse:0.86605\tdtrain-ZIdev:0.19743\tdtest-ZIdev:0.19926\n",
      "[212]\tdtrain-rmse:0.86523\tdtest-rmse:0.86610\tdtrain-ZIdev:0.19741\tdtest-ZIdev:0.19925\n",
      "[213]\tdtrain-rmse:0.86539\tdtest-rmse:0.86625\tdtrain-ZIdev:0.19736\tdtest-ZIdev:0.19921\n",
      "[214]\tdtrain-rmse:0.86546\tdtest-rmse:0.86632\tdtrain-ZIdev:0.19733\tdtest-ZIdev:0.19920\n",
      "[215]\tdtrain-rmse:0.86563\tdtest-rmse:0.86662\tdtrain-ZIdev:0.19728\tdtest-ZIdev:0.19912\n",
      "[216]\tdtrain-rmse:0.86593\tdtest-rmse:0.86693\tdtrain-ZIdev:0.19715\tdtest-ZIdev:0.19937\n",
      "[217]\tdtrain-rmse:0.86610\tdtest-rmse:0.86710\tdtrain-ZIdev:0.19710\tdtest-ZIdev:0.19934\n",
      "[218]\tdtrain-rmse:0.86623\tdtest-rmse:0.86724\tdtrain-ZIdev:0.19703\tdtest-ZIdev:0.19937\n",
      "[219]\tdtrain-rmse:0.86624\tdtest-rmse:0.86725\tdtrain-ZIdev:0.19703\tdtest-ZIdev:0.19936\n",
      "[220]\tdtrain-rmse:0.86639\tdtest-rmse:0.86738\tdtrain-ZIdev:0.19695\tdtest-ZIdev:0.19930\n",
      "[221]\tdtrain-rmse:0.86651\tdtest-rmse:0.86753\tdtrain-ZIdev:0.19691\tdtest-ZIdev:0.19927\n",
      "[222]\tdtrain-rmse:0.86659\tdtest-rmse:0.86763\tdtrain-ZIdev:0.19689\tdtest-ZIdev:0.19924\n",
      "[223]\tdtrain-rmse:0.86691\tdtest-rmse:0.86794\tdtrain-ZIdev:0.19678\tdtest-ZIdev:0.19919\n",
      "[224]\tdtrain-rmse:0.86699\tdtest-rmse:0.86804\tdtrain-ZIdev:0.19675\tdtest-ZIdev:0.19915\n",
      "[225]\tdtrain-rmse:0.86719\tdtest-rmse:0.86823\tdtrain-ZIdev:0.19669\tdtest-ZIdev:0.19919\n",
      "Stopping. Best iteration:\n",
      "[215]\tdtrain-rmse:0.86563\tdtest-rmse:0.86662\tdtrain-ZIdev:0.19728\tdtest-ZIdev:0.19912\n",
      "\n"
     ]
    }
   ],
   "source": [
    "params = {'learning_rate': 0.005244699573929688,\n",
    " 'booster': 'gbtree',\n",
    " 'lambda': 0.0009062424575469218,\n",
    " 'alpha': 2.8543406763066105e-08,\n",
    " 'subsample': 0.8152933049730727,\n",
    " 'colsample_bytree': 0.830977185223346,\n",
    " 'max_depth': 4,\n",
    " 'min_child_weight': 2,\n",
    " 'eta': 0.005397189828785509,\n",
    " 'gamma': 6.912818503629075e-06,\n",
    " 'grow_policy': 'lossguide'}\n",
    "\n",
    "results: Dict[str, Dict[str, List[float]]] = {}\n",
    "    \n",
    "booster =xgb.train(params, \n",
    "                   dtrain=dmat_train, \n",
    "                   num_boost_round=2000,\n",
    "                   obj=PoissonZeroNegLogLik, \n",
    "                   feval=EvalPoissonZeroNegLogLik,\n",
    "                   evals=[(dmat_train, 'dtrain'), (dmat_valid, 'dtest')],\n",
    "                   early_stopping_rounds=10, \n",
    "                   evals_result=results)"
   ]
  },
  {
   "cell_type": "markdown",
   "metadata": {},
   "source": [
    "# Prédiction"
   ]
  },
  {
   "cell_type": "code",
   "execution_count": 39,
   "metadata": {},
   "outputs": [],
   "source": [
    "def predict_expected_value_strat_1(X_b, offset, X_p, xgb_B, xgb_P, plot=False):\n",
    "\n",
    "    output_B = xgb_B.predict_proba(X_b, base_margin=offset)[:, 1]\n",
    "    output_P = xgb_P.predict(X_p)\n",
    "    output_P_ = ((output_P*np.exp(output_P))/(np.exp(output_P)-1))\n",
    "    \n",
    "    if plot == True:\n",
    "        ax = sns.boxplot(x=output_B)\n",
    "        plt.title('output_B')\n",
    "        plt.xlabel(\"Frequency\")\n",
    "        plt.show()\n",
    "        print(np.mean(output_B), np.median(output_B), \n",
    "              np.std(output_B), np.min(output_B), np.max(output_B))\n",
    "\n",
    "        ax = sns.boxplot(x=output_P_)\n",
    "        plt.title('output_P')\n",
    "        plt.xlabel(\"Frequency\")\n",
    "        plt.show()\n",
    "        print(np.mean(output_P_), np.median(output_P_), \n",
    "              np.std(output_P_), np.min(output_P_), np.max(output_P_))\n",
    "    \n",
    "    return output_B*output_P_"
   ]
  },
  {
   "cell_type": "code",
   "execution_count": 40,
   "metadata": {},
   "outputs": [
    {
     "data": {
      "image/png": "[encoded data removed]",
      "text/plain": [
       "<Figure size 432x288 with 1 Axes>"
      ]
     },
     "metadata": {},
     "output_type": "display_data"
    },
    {
     "name": "stdout",
     "output_type": "stream",
     "text": [
      "0.051160697 0.04194145 0.05274714 6.840343e-05 0.78088176\n"
     ]
    },
    {
     "data": {
      "image/png": "[encoded data removed]",
      "text/plain": [
       "<Figure size 432x288 with 1 Axes>"
      ]
     },
     "metadata": {},
     "output_type": "display_data"
    },
    {
     "name": "stdout",
     "output_type": "stream",
     "text": [
      "1.1140853 1.1179254 0.03080519 0.85570174 1.2282424\n"
     ]
    },
    {
     "data": {
      "image/png": "[encoded data removed]",
      "text/plain": [
       "<Figure size 432x288 with 1 Axes>"
      ]
     },
     "metadata": {},
     "output_type": "display_data"
    },
    {
     "name": "stdout",
     "output_type": "stream",
     "text": [
      "0.050159283 0.04031206 0.05272002 5.2275842e-05 0.7961453\n"
     ]
    },
    {
     "data": {
      "image/png": "[encoded data removed]",
      "text/plain": [
       "<Figure size 432x288 with 1 Axes>"
      ]
     },
     "metadata": {},
     "output_type": "display_data"
    },
    {
     "name": "stdout",
     "output_type": "stream",
     "text": [
      "1.1160779 1.1172514 0.02740161 0.7835487 1.3394625\n",
      "CPU times: user 53.8 s, sys: 464 ms, total: 54.3 s\n",
      "Wall time: 6.19 s\n"
     ]
    }
   ],
   "source": [
    "%%time\n",
    "\n",
    "dmat_train_ = xgb.DMatrix(x_train, y_train)\n",
    "dmat_valid_ = xgb.DMatrix(x_valid, y_valid)\n",
    "\n",
    "predictions_valid = predict_expected_value_strat_1(x_valid, log_exp_valid, dmat_valid_, xgb_binaire, booster, plot=True)\n",
    "\n",
    "predictions_train = predict_expected_value_strat_1(x_train, log_exp_train, dmat_train_, xgb_binaire, booster, plot=True)\n",
    "    \n",
    "#deviance\n",
    "df_poisson = pd.DataFrame()\n",
    "table_modal= [np.round(PD_function(predictions_train, y_train['ClaimNb']),6),\n",
    "                  np.round(PD_function(predictions_valid, y_valid['ClaimNb']),6),\n",
    "                  sum(predictions_train),\n",
    "                  sum(predictions_valid), \n",
    "                  sum(y_train['ClaimNb']),\n",
    "                  sum(y_valid['ClaimNb'])\n",
    "                 ]\n",
    "table_name = [\"deviance_p_train\", \"deviance_p_test\",\n",
    "              \"freq_pred_train\", \"freq_pred_test\", \"freq_obs_train\", \"freq_obs_test\"]\n",
    "    \n",
    "cnt = dict()\n",
    "k=0\n",
    "for word in table_name:\n",
    "    cnt[word] = table_modal[k]\n",
    "    k = k+1\n",
    "df_poisson = df_poisson.append(cnt, ignore_index=True)\n",
    "    \n",
    "cf_matrix_train = confusion_matrix(y_train['ClaimNb'], np.round(predictions_train).astype(int))\n",
    "cf_matrix_valid = confusion_matrix(y_valid['ClaimNb'], np.round(predictions_valid).astype(int))\n"
   ]
  },
  {
   "cell_type": "code",
   "execution_count": 41,
   "metadata": {},
   "outputs": [
    {
     "data": {
      "text/html": [
       "<div>\n",
       "<style scoped>\n",
       "    .dataframe tbody tr th:only-of-type {\n",
       "        vertical-align: middle;\n",
       "    }\n",
       "\n",
       "    .dataframe tbody tr th {\n",
       "        vertical-align: top;\n",
       "    }\n",
       "\n",
       "    .dataframe thead th {\n",
       "        text-align: right;\n",
       "    }\n",
       "</style>\n",
       "<table border=\"1\" class=\"dataframe\">\n",
       "  <thead>\n",
       "    <tr style=\"text-align: right;\">\n",
       "      <th></th>\n",
       "      <th>deviance_p_train</th>\n",
       "      <th>deviance_p_test</th>\n",
       "      <th>freq_pred_train</th>\n",
       "      <th>freq_pred_test</th>\n",
       "      <th>freq_obs_train</th>\n",
       "      <th>freq_obs_test</th>\n",
       "    </tr>\n",
       "  </thead>\n",
       "  <tbody>\n",
       "    <tr>\n",
       "      <th>0</th>\n",
       "      <td>29.247027</td>\n",
       "      <td>30.350431</td>\n",
       "      <td>32327.132338</td>\n",
       "      <td>5808.496544</td>\n",
       "      <td>30530.0</td>\n",
       "      <td>5526.0</td>\n",
       "    </tr>\n",
       "  </tbody>\n",
       "</table>\n",
       "</div>"
      ],
      "text/plain": [
       "   deviance_p_train  deviance_p_test  freq_pred_train  freq_pred_test  \\\n",
       "0         29.247027        30.350431     32327.132338     5808.496544   \n",
       "\n",
       "   freq_obs_train  freq_obs_test  \n",
       "0         30530.0         5526.0  "
      ]
     },
     "execution_count": 41,
     "metadata": {},
     "output_type": "execute_result"
    }
   ],
   "source": [
    "df_poisson[[\"deviance_p_train\", \"deviance_p_test\", \n",
    "            \"freq_pred_train\", \"freq_pred_test\", \"freq_obs_train\", \"freq_obs_test\"]]"
   ]
  },
  {
   "cell_type": "code",
   "execution_count": 42,
   "metadata": {},
   "outputs": [
    {
     "name": "stdout",
     "output_type": "stream",
     "text": [
      "5.886447225679658\n",
      "5.318082530120475\n"
     ]
    }
   ],
   "source": [
    "print((32327.132338-30530.0)/30530.0*100)\n",
    "print((5808.496544-5526.0)/5312.0*100)"
   ]
  },
  {
   "cell_type": "code",
   "execution_count": 43,
   "metadata": {},
   "outputs": [
    {
     "data": {
      "text/plain": [
       "array([[546696,    766,      0,      0,      0],\n",
       "       [ 26708,    520,      0,      0,      0],\n",
       "       [  1476,     42,      0,      0,      0],\n",
       "       [    69,      1,      0,      0,      0],\n",
       "       [    14,      0,      0,      0,      0]])"
      ]
     },
     "execution_count": 43,
     "metadata": {},
     "output_type": "execute_result"
    }
   ],
   "source": [
    "cf_matrix_train"
   ]
  },
  {
   "cell_type": "code",
   "execution_count": 44,
   "metadata": {},
   "outputs": [
    {
     "data": {
      "text/plain": [
       "array([[96324,   144,     0,     0,     0],\n",
       "       [ 4864,    86,     0,     0,     0],\n",
       "       [  263,     3,     0,     0,     0],\n",
       "       [   12,     0,     0,     0,     0],\n",
       "       [    2,     0,     0,     0,     0]])"
      ]
     },
     "execution_count": 44,
     "metadata": {},
     "output_type": "execute_result"
    }
   ],
   "source": [
    "cf_matrix_valid"
   ]
  },
  {
   "cell_type": "code",
   "execution_count": 45,
   "metadata": {},
   "outputs": [
    {
     "data": {
      "text/plain": [
       "<AxesSubplot:title={'center':'Feature importance: Binary XGBoost'}, xlabel='F score', ylabel='Features'>"
      ]
     },
     "execution_count": 45,
     "metadata": {},
     "output_type": "execute_result"
    },
    {
     "data": {
      "image/png": "[encoded data removed]",
      "text/plain": [
       "<Figure size 432x288 with 1 Axes>"
      ]
     },
     "metadata": {},
     "output_type": "display_data"
    }
   ],
   "source": [
    "plot_importance(xgb_binaire, title='Feature importance: Binary XGBoost')"
   ]
  },
  {
   "cell_type": "code",
   "execution_count": 46,
   "metadata": {},
   "outputs": [
    {
     "data": {
      "text/plain": [
       "<AxesSubplot:title={'center':'Feature importance: Poisson Zero Truncated XGBoost'}, xlabel='F score', ylabel='Features'>"
      ]
     },
     "execution_count": 46,
     "metadata": {},
     "output_type": "execute_result"
    },
    {
     "data": {
      "image/png": "[encoded data removed]",
      "text/plain": [
       "<Figure size 432x288 with 1 Axes>"
      ]
     },
     "metadata": {},
     "output_type": "display_data"
    }
   ],
   "source": [
    "plot_importance(booster, title='Feature importance: Poisson Zero Truncated XGBoost')"
   ]
  }
 ],
 "metadata": {
  "kernelspec": {
   "display_name": "Python 3",
   "language": "python",
   "name": "python3"
  },
  "language_info": {
   "codemirror_mode": {
    "name": "ipython",
    "version": 3
   },
   "file_extension": ".py",
   "mimetype": "text/x-python",
   "name": "python",
   "nbconvert_exporter": "python",
   "pygments_lexer": "ipython3",
   "version": "3.8.5"
  }
 },
 "nbformat": 4,
 "nbformat_minor": 4
}
